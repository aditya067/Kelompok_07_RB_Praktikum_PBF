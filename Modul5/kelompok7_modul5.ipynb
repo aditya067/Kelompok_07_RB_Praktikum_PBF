{
 "cells": [
  {
   "cell_type": "code",
   "execution_count": 17,
   "metadata": {},
   "outputs": [
    {
     "name": "stdout",
     "output_type": "stream",
     "text": [
      "Function wrapper is called with arguments ([100, 200, 300, 400, 500, 232, 152, 2356, 2341, 2, 125, 121, 2132, 4, 124, 12],) and keyword arguments {'discount': 0.2}\n",
      "Function wrapper is returning 7280.8\n",
      "Total price of the products is: 7280.8\n"
     ]
    }
   ],
   "source": [
    "def discount_decorator(func):\n",
    "    \"\"\"\n",
    "    sebuah decorator yang memberikan diskon pada hasil yang dikembalikan oleh fungsi yang didekorasi.\n",
    "\n",
    "    Args:\n",
    "        func: fungsinya yang akan didekorasi.\n",
    "\n",
    "    Returns:\n",
    "        function: fungsinya yang didekorasi.\n",
    "\n",
    "    Example:\n",
    "        @discount_decorator\n",
    "        def calculate_total(price, quantity):\n",
    "            return price * quantity\n",
    "\n",
    "        discounted_total = calculate_total(10, 5, discount=0.1)\n",
    "        print(discounted_total)  # Output: 45.0\n",
    "    \n",
    "    \"\"\"\n",
    "    def wrapper(*args, **kwargs):\n",
    "        # Apply discount logic here\n",
    "        discount = kwargs.get('discount', 0.2) # default discount is 20% if not provided in the keyword arguments\n",
    "        result = func(*args, **kwargs)\n",
    "        return result - (result * discount)\n",
    "    return wrapper\n",
    "\n",
    "# create function decorator to log the function name and arguments and result\n",
    "def log_decorator(func):\n",
    "    \"\"\"\n",
    "    sebuah decorator yang mencetak nama fungsi dan argumen yang diterima oleh fungsi tersebut, serta hasil yang dikembalikan oleh fungsi tersebut.\n",
    "\n",
    "    Parameters:\n",
    "    func (function): sebuah fungsi yang akan didekorasi.\n",
    "\n",
    "    Returns:\n",
    "    function: fungsi yang didekorasi.\n",
    "    \"\"\"\n",
    "    def wrapper(*args, **kwargs):\n",
    "        print(f\"Function {func.__name__} is called with arguments {args} and keyword arguments {kwargs}\")\n",
    "        result = func(*args, **kwargs)\n",
    "        print(f\"Function {func.__name__} is returning {result}\")\n",
    "        return result\n",
    "    return wrapper\n",
    "\n",
    "\n",
    "# apply the decorator to the function\n",
    "\n",
    "@log_decorator\n",
    "@discount_decorator\n",
    "def calculate_total_price(products, *args, **kwargs):\n",
    "    return sum(products)\n",
    "\n",
    "# create a list of products\n",
    "products = [100, 200, 300, 400, 500,232,152,2356,2341,2,125,121,2132,4,124,12]\n",
    "\n",
    "# calculate the total price of the products\n",
    "total_price = calculate_total_price(products,discount=0.2)\n",
    "\n",
    "# print the total price\n",
    "\n",
    "print(f\"Total price of the products is: {total_price}\")\n"
   ]
  }
 ],
 "metadata": {
  "kernelspec": {
   "display_name": "Python 3",
   "language": "python",
   "name": "python3"
  },
  "language_info": {
   "codemirror_mode": {
    "name": "ipython",
    "version": 3
   },
   "file_extension": ".py",
   "mimetype": "text/x-python",
   "name": "python",
   "nbconvert_exporter": "python",
   "pygments_lexer": "ipython3",
   "version": "3.8.2"
  }
 },
 "nbformat": 4,
 "nbformat_minor": 2
}
