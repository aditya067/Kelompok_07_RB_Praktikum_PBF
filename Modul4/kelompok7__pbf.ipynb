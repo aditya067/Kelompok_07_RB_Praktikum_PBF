{
  "cells": [
    {
      "cell_type": "code",
      "execution_count": null,
      "metadata": {
        "id": "yAWa2qkrXttR",
        "outputId": "683c22a9-e7cd-4946-b797-8e24a444068c"
      },
      "outputs": [
        {
          "data": {
            "text/html": [
              "<div>\n",
              "<style scoped>\n",
              "    .dataframe tbody tr th:only-of-type {\n",
              "        vertical-align: middle;\n",
              "    }\n",
              "\n",
              "    .dataframe tbody tr th {\n",
              "        vertical-align: top;\n",
              "    }\n",
              "\n",
              "    .dataframe thead th {\n",
              "        text-align: right;\n",
              "    }\n",
              "</style>\n",
              "<table border=\"1\" class=\"dataframe\">\n",
              "  <thead>\n",
              "    <tr style=\"text-align: right;\">\n",
              "      <th></th>\n",
              "      <th>date</th>\n",
              "      <th>winesales</th>\n",
              "    </tr>\n",
              "  </thead>\n",
              "  <tbody>\n",
              "    <tr>\n",
              "      <th>0</th>\n",
              "      <td>1980-01-01</td>\n",
              "      <td>15136</td>\n",
              "    </tr>\n",
              "    <tr>\n",
              "      <th>1</th>\n",
              "      <td>1980-02-01</td>\n",
              "      <td>16733</td>\n",
              "    </tr>\n",
              "    <tr>\n",
              "      <th>2</th>\n",
              "      <td>1980-03-01</td>\n",
              "      <td>20016</td>\n",
              "    </tr>\n",
              "    <tr>\n",
              "      <th>3</th>\n",
              "      <td>1980-04-01</td>\n",
              "      <td>17708</td>\n",
              "    </tr>\n",
              "    <tr>\n",
              "      <th>4</th>\n",
              "      <td>1980-05-01</td>\n",
              "      <td>18019</td>\n",
              "    </tr>\n",
              "  </tbody>\n",
              "</table>\n",
              "</div>"
            ],
            "text/plain": [
              "         date  winesales\n",
              "0  1980-01-01      15136\n",
              "1  1980-02-01      16733\n",
              "2  1980-03-01      20016\n",
              "3  1980-04-01      17708\n",
              "4  1980-05-01      18019"
            ]
          },
          "execution_count": 13,
          "metadata": {},
          "output_type": "execute_result"
        }
      ],
      "source": [
        "import pandas as pd\n",
        "link_df = \"https://raw.githubusercontent.com/selva86/datasets/master/wineind.csv\" #dataset tentang penjualan wine dari tahun per tahun\n",
        "df = pd.read_csv(link_df)\n",
        "df.head()"
      ]
    },
    {
      "cell_type": "code",
      "execution_count": null,
      "metadata": {
        "id": "RKbMIStZXttW"
      },
      "outputs": [],
      "source": [
        "## CREATE A FUNCTION CLOSURE THAT FOR FEATURE ENGINEERING OF A DATASET\n",
        "## THE FUNCTION WILL TAKE A DATASET AND RETURN A NEW DATASET WITH THE FOLLOWING FEATURES\n",
        "\n",
        "\n",
        "def feature_engineering_tranfrom(\n",
        "    operation,\n",
        "):  # fungsi closure yang akan mengembalikan fungsi baru yang akan melakukan operasi feature engineering pada dataset\n",
        "    \"\"\"\n",
        "    membuat fungsi closure yang akan melakukan feature engineering pada dataset yang diberikan\n",
        "\n",
        "    Parameters:\n",
        "    operation (function): fungsi yang akan diterapkan pada setiap elemen dalam dataset\n",
        "\n",
        "    Returns:\n",
        "    function: fungsi yang akan melakukan operasi feature engineering pada dataset yang diberikan\n",
        "    \"\"\"\n",
        "\n",
        "    def transform(\n",
        "        data,\n",
        "    ):  # fungsi yang akan melakukan operasi feature engineering pada dataset yang diberikan\n",
        "        \"\"\"\n",
        "        melakukan operasi feature engineering pada dataset yang diberikan\n",
        "\n",
        "        Parameters:\n",
        "        data (list): dataset yang akan diubah\n",
        "\n",
        "        Returns:\n",
        "        list: dataset yang telah diubah\n",
        "        \"\"\"\n",
        "\n",
        "        return [operation(x) for x in data]\n",
        "\n",
        "    return transform\n",
        "\n",
        "\n"
      ]
    },
    {
      "cell_type": "code",
      "execution_count": null,
      "metadata": {
        "id": "_Bb2C5IDXttY",
        "outputId": "38b4907d-7673-481e-aeae-cdd3b0546f78"
      },
      "outputs": [
        {
          "data": {
            "text/html": [
              "<div>\n",
              "<style scoped>\n",
              "    .dataframe tbody tr th:only-of-type {\n",
              "        vertical-align: middle;\n",
              "    }\n",
              "\n",
              "    .dataframe tbody tr th {\n",
              "        vertical-align: top;\n",
              "    }\n",
              "\n",
              "    .dataframe thead th {\n",
              "        text-align: right;\n",
              "    }\n",
              "</style>\n",
              "<table border=\"1\" class=\"dataframe\">\n",
              "  <thead>\n",
              "    <tr style=\"text-align: right;\">\n",
              "      <th></th>\n",
              "      <th>date</th>\n",
              "      <th>winesales</th>\n",
              "      <th>winesales_standardized</th>\n",
              "      <th>winesales_normalized</th>\n",
              "    </tr>\n",
              "  </thead>\n",
              "  <tbody>\n",
              "    <tr>\n",
              "      <th>0</th>\n",
              "      <td>1980-01-01</td>\n",
              "      <td>15136000000</td>\n",
              "      <td>-1.920331</td>\n",
              "      <td>0.055844</td>\n",
              "    </tr>\n",
              "    <tr>\n",
              "      <th>1</th>\n",
              "      <td>1980-02-01</td>\n",
              "      <td>16733000000</td>\n",
              "      <td>-1.621314</td>\n",
              "      <td>0.115940</td>\n",
              "    </tr>\n",
              "    <tr>\n",
              "      <th>2</th>\n",
              "      <td>1980-03-01</td>\n",
              "      <td>20016000000</td>\n",
              "      <td>-1.006614</td>\n",
              "      <td>0.239482</td>\n",
              "    </tr>\n",
              "    <tr>\n",
              "      <th>3</th>\n",
              "      <td>1980-04-01</td>\n",
              "      <td>17708000000</td>\n",
              "      <td>-1.438758</td>\n",
              "      <td>0.152630</td>\n",
              "    </tr>\n",
              "    <tr>\n",
              "      <th>4</th>\n",
              "      <td>1980-05-01</td>\n",
              "      <td>18019000000</td>\n",
              "      <td>-1.380527</td>\n",
              "      <td>0.164334</td>\n",
              "    </tr>\n",
              "  </tbody>\n",
              "</table>\n",
              "</div>"
            ],
            "text/plain": [
              "         date    winesales  winesales_standardized  winesales_normalized\n",
              "0  1980-01-01  15136000000               -1.920331              0.055844\n",
              "1  1980-02-01  16733000000               -1.621314              0.115940\n",
              "2  1980-03-01  20016000000               -1.006614              0.239482\n",
              "3  1980-04-01  17708000000               -1.438758              0.152630\n",
              "4  1980-05-01  18019000000               -1.380527              0.164334"
            ]
          },
          "execution_count": 19,
          "metadata": {},
          "output_type": "execute_result"
        }
      ],
      "source": [
        "standardize = feature_engineering_tranfrom(\n",
        "    lambda x: (x - df[\"winesales\"].mean()) / df[\"winesales\"].std()\n",
        ")  # fungsi yang akan melakukan standardisasi pada dataset\n",
        "normalize = feature_engineering_tranfrom(\n",
        "    lambda x: (x - df[\"winesales\"].min())\n",
        "    / (df[\"winesales\"].max() - df[\"winesales\"].min())\n",
        ")  # fungsi yang akan melakukan normalisasi pada dataset\n",
        "\n",
        "\n",
        "df[\"winesales_standardized\"] = standardize(\n",
        "    df[\"winesales\"]\n",
        ")  # menambahkan kolom baru yang berisi data yang telah distandardisasi\n",
        "df[\"winesales_normalized\"] = normalize(\n",
        "    df[\"winesales\"]\n",
        ")  # menambahkan kolom baru yang berisi data yang telah dinormalisasi\n",
        "df.head()"
      ]
    }
  ],
  "metadata": {
    "kernelspec": {
      "display_name": "Python 3",
      "language": "python",
      "name": "python3"
    },
    "language_info": {
      "codemirror_mode": {
        "name": "ipython",
        "version": 3
      },
      "file_extension": ".py",
      "mimetype": "text/x-python",
      "name": "python",
      "nbconvert_exporter": "python",
      "pygments_lexer": "ipython3",
      "version": "3.8.2"
    },
    "colab": {
      "provenance": []
    }
  },
  "nbformat": 4,
  "nbformat_minor": 0
}