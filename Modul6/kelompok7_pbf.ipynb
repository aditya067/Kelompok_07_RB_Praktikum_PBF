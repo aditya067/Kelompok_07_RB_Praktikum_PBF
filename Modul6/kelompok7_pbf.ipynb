{
  "cells": [
    {
      "cell_type": "code",
      "execution_count": null,
      "metadata": {
        "colab": {
          "base_uri": "https://localhost:8080/"
        },
        "id": "gWVGSp464yWO",
        "outputId": "bb30177b-897d-4a85-e39f-1340640d4417"
      },
      "outputs": [
        {
          "output_type": "stream",
          "name": "stdout",
          "text": [
            "[{'id': 1, 'name': 'Kemeja', 'category': 'Pakaian', 'price': 150000, 'stock': 10}, {'id': 2, 'name': 'Celana', 'category': 'Pakaian', 'price': 200000, 'stock': 8}]\n",
            "[{'id': 3, 'name': 'Sepatu', 'category': 'Sepatu', 'price': 300000, 'stock': 5}, {'id': 2, 'name': 'Celana', 'category': 'Pakaian', 'price': 200000, 'stock': 8}, {'id': 1, 'name': 'Kemeja', 'category': 'Pakaian', 'price': 150000, 'stock': 10}, {'id': 4, 'name': 'Tas', 'category': 'Aksesoris', 'price': 100000, 'stock': 15}]\n",
            "[{'id': 1, 'name': 'Kemeja', 'category': 'Pakaian', 'price': 135000.0, 'stock': 10}, {'id': 2, 'name': 'Celana', 'category': 'Pakaian', 'price': 180000.0, 'stock': 8}, {'id': 3, 'name': 'Sepatu', 'category': 'Sepatu', 'price': 270000.0, 'stock': 5}, {'id': 4, 'name': 'Tas', 'category': 'Aksesoris', 'price': 90000.0, 'stock': 15}]\n",
            "{'Pakaian': [{'id': 1, 'name': 'Kemeja', 'category': 'Pakaian', 'price': 150000, 'stock': 10}, {'id': 2, 'name': 'Celana', 'category': 'Pakaian', 'price': 200000, 'stock': 8}], 'Sepatu': [{'id': 3, 'name': 'Sepatu', 'category': 'Sepatu', 'price': 300000, 'stock': 5}], 'Aksesoris': [{'id': 4, 'name': 'Tas', 'category': 'Aksesoris', 'price': 100000, 'stock': 15}]}\n",
            "38\n",
            "18\n"
          ]
        }
      ],
      "source": [
        "# Data inventaris toko dalam bentuk list of dictionaries\n",
        "inventory = [\n",
        "    {\"id\": 1, \"name\": \"Kemeja\", \"category\": \"Pakaian\", \"price\": 150000, \"stock\": 10},\n",
        "    {\"id\": 2, \"name\": \"Celana\", \"category\": \"Pakaian\", \"price\": 200000, \"stock\": 8},\n",
        "    {\"id\": 3, \"name\": \"Sepatu\", \"category\": \"Sepatu\", \"price\": 300000, \"stock\": 5},\n",
        "    {\"id\": 4, \"name\": \"Tas\", \"category\": \"Aksesoris\", \"price\": 100000, \"stock\": 15},\n",
        "]\n",
        "\n",
        "# 1. Filtering Items\n",
        "def filter_by_category(category):\n",
        "    return list(filter(lambda item: item[\"category\"] == category, inventory))\n",
        "\n",
        "clothing_items = filter_by_category(\"Pakaian\")\n",
        "print(clothing_items)\n",
        "\n",
        "# 2. Sorting Items\n",
        "def sort_by_price_descending():\n",
        "    return sorted(inventory, key=lambda item: item[\"price\"], reverse=True)\n",
        "\n",
        "sorted_inventory = sort_by_price_descending()\n",
        "print(sorted_inventory)\n",
        "\n",
        "# 3. Mapping Inventory\n",
        "def add_discount(percentage):\n",
        "    return [{**item, \"price\": item[\"price\"] * (1 - percentage / 100)} for item in inventory]\n",
        "\n",
        "discounted_inventory = add_discount(10)\n",
        "print(discounted_inventory)\n",
        "\n",
        "# 4. Grouping Items\n",
        "from collections import defaultdict\n",
        "\n",
        "def group_by_category():\n",
        "    grouped = defaultdict(list)\n",
        "    for item in inventory:\n",
        "        grouped[item[\"category\"]].append(item)\n",
        "    return dict(grouped)\n",
        "\n",
        "grouped_inventory = group_by_category()\n",
        "print(grouped_inventory)\n",
        "\n",
        "# 5. Reducing Items\n",
        "def calculate_stock():\n",
        "    return sum(item[\"stock\"] for item in inventory)\n",
        "\n",
        "total_stock = calculate_stock()\n",
        "print(total_stock)\n",
        "\n",
        "# 6. Chaining Operations\n",
        "def calculate_stock_by_category(category):\n",
        "    return sum(item[\"stock\"] for item in filter_by_category(category))\n",
        "\n",
        "stock_clothing = calculate_stock_by_category(\"Pakaian\")\n",
        "print(stock_clothing)\n",
        "\n",
        "\n"
      ]
    }
  ],
  "metadata": {
    "kernelspec": {
      "display_name": "Python 3",
      "language": "python",
      "name": "python3"
    },
    "language_info": {
      "codemirror_mode": {
        "name": "ipython",
        "version": 3
      },
      "file_extension": ".py",
      "mimetype": "text/x-python",
      "name": "python",
      "nbconvert_exporter": "python",
      "pygments_lexer": "ipython3",
      "version": "3.8.2"
    },
    "colab": {
      "provenance": []
    }
  },
  "nbformat": 4,
  "nbformat_minor": 0
}